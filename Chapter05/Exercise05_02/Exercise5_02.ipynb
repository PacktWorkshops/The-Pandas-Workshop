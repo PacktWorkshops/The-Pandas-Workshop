{
 "cells": [
  {
   "cell_type": "code",
   "execution_count": 1,
   "metadata": {},
   "outputs": [],
   "source": [
    "#\n",
    "# libraries\n",
    "#\n",
    "import pandas as pd\n",
    "#"
   ]
  },
  {
   "cell_type": "code",
   "execution_count": 2,
   "metadata": {},
   "outputs": [
    {
     "name": "stdout",
     "output_type": "stream",
     "text": [
      "(7384, 11)\n",
      "['AT', 'AP', 'AH', 'AFDP', 'GTEP', 'TIT', 'TAT', 'TEY', 'CDP', 'CO', 'NOX']\n"
     ]
    }
   ],
   "source": [
    "#\n",
    "# read the data\n",
    "#\n",
    "gas_turbine_data = pd.read_csv('../Datasets/gt_2015.csv')\n",
    "print(gas_turbine_data.shape)\n",
    "print(list(gas_turbine_data.columns))\n",
    "#"
   ]
  },
  {
   "cell_type": "code",
   "execution_count": 3,
   "metadata": {},
   "outputs": [
    {
     "name": "stdout",
     "output_type": "stream",
     "text": [
      "               CO         NOX\n",
      "count  100.000000  100.000000\n",
      "mean     3.774012   77.661970\n",
      "std      1.774795   13.708632\n",
      "min      0.475440   58.432000\n",
      "25%      2.656625   64.672000\n",
      "50%      3.501650   78.084000\n",
      "75%      4.078250   85.121250\n",
      "max     12.659000  118.270000\n",
      "                CO          NOX\n",
      "count  7384.000000  7384.000000\n",
      "mean      3.129986    59.890509\n",
      "std       2.234962    11.132464\n",
      "min       0.212800    25.905000\n",
      "25%       1.808175    52.399000\n",
      "50%       2.533400    56.838500\n",
      "75%       3.702550    65.093250\n",
      "max      41.097000   119.680000\n"
     ]
    }
   ],
   "source": [
    "#\n",
    "# subset the emissions columns ('CO' and 'NOX')\n",
    "# and the first 100 rows as a sample\n",
    "#\n",
    "print(gas_turbine_data.iloc[:100, :].loc[:, ['CO', 'NOX']].describe())\n",
    "print(gas_turbine_data.loc[:, ['CO', 'NOX']].describe())\n",
    "#"
   ]
  },
  {
   "cell_type": "code",
   "execution_count": null,
   "metadata": {},
   "outputs": [],
   "source": []
  }
 ],
 "metadata": {
  "kernelspec": {
   "display_name": "Python 3 (ipykernel)",
   "language": "python",
   "name": "python3"
  },
  "language_info": {
   "codemirror_mode": {
    "name": "ipython",
    "version": 3
   },
   "file_extension": ".py",
   "mimetype": "text/x-python",
   "name": "python",
   "nbconvert_exporter": "python",
   "pygments_lexer": "ipython3",
   "version": "3.9.5"
  },
  "toc": {
   "base_numbering": 1,
   "nav_menu": {},
   "number_sections": true,
   "sideBar": true,
   "skip_h1_title": false,
   "title_cell": "Table of Contents",
   "title_sidebar": "Contents",
   "toc_cell": false,
   "toc_position": {
    "height": "calc(100% - 180px)",
    "left": "10px",
    "top": "150px",
    "width": "256px"
   },
   "toc_section_display": true,
   "toc_window_display": true
  },
  "varInspector": {
   "cols": {
    "lenName": 16,
    "lenType": 16,
    "lenVar": 40
   },
   "kernels_config": {
    "python": {
     "delete_cmd_postfix": "",
     "delete_cmd_prefix": "del ",
     "library": "var_list.py",
     "varRefreshCmd": "print(var_dic_list())"
    },
    "r": {
     "delete_cmd_postfix": ") ",
     "delete_cmd_prefix": "rm(",
     "library": "var_list.r",
     "varRefreshCmd": "cat(var_dic_list()) "
    }
   },
   "types_to_exclude": [
    "module",
    "function",
    "builtin_function_or_method",
    "instance",
    "_Feature"
   ],
   "window_display": false
  }
 },
 "nbformat": 4,
 "nbformat_minor": 4
}
